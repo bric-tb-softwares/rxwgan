{
 "cells": [
  {
   "cell_type": "markdown",
   "id": "0eab4794-3368-48c4-97fc-06f61754c235",
   "metadata": {},
   "source": [
    "# 02: Crop images and Separate\n",
    "\n",
    "From: jodafons"
   ]
  },
  {
   "cell_type": "code",
   "execution_count": 20,
   "id": "a6f1a144-56e6-48f0-bce4-d4fe9417acd3",
   "metadata": {},
   "outputs": [],
   "source": [
    "import pandas as pd\n",
    "import numpy as np\n",
    "import os, sys\n",
    "import glob\n",
    "import re\n",
    "import hashlib\n",
    "import pathlib\n",
    "from PIL import Image\n",
    "import matplotlib.pyplot as plt"
   ]
  },
  {
   "cell_type": "code",
   "execution_count": 21,
   "id": "a9af77d9-f707-49cb-89b5-a78c12709bc8",
   "metadata": {},
   "outputs": [],
   "source": [
    "def expand_folder( path , extension):\n",
    "    return glob.glob(path+'/*.'+extension)"
   ]
  },
  {
   "cell_type": "code",
   "execution_count": 22,
   "id": "8b2ca64a-2148-4b66-8822-a7c182961255",
   "metadata": {},
   "outputs": [],
   "source": [
    "def get_md5(path):\n",
    "    return hashlib.md5(pathlib.Path(path).read_bytes()).hexdigest()"
   ]
  },
  {
   "cell_type": "code",
   "execution_count": 23,
   "id": "104ec467-e70d-43b5-883c-95fa0ab61dfe",
   "metadata": {},
   "outputs": [],
   "source": [
    "table_path = '../data/Shenzhen/tables/Shenzhen_table_from_raw.xlsx'\n",
    "image_path = '../data/Shenzhen/images'"
   ]
  },
  {
   "cell_type": "code",
   "execution_count": 24,
   "id": "a4778e05-55e9-4d0d-8a64-39b8260e9b94",
   "metadata": {},
   "outputs": [
    {
     "data": {
      "text/html": [
       "<div>\n",
       "<style scoped>\n",
       "    .dataframe tbody tr th:only-of-type {\n",
       "        vertical-align: middle;\n",
       "    }\n",
       "\n",
       "    .dataframe tbody tr th {\n",
       "        vertical-align: top;\n",
       "    }\n",
       "\n",
       "    .dataframe thead th {\n",
       "        text-align: right;\n",
       "    }\n",
       "</style>\n",
       "<table border=\"1\" class=\"dataframe\">\n",
       "  <thead>\n",
       "    <tr style=\"text-align: right;\">\n",
       "      <th></th>\n",
       "      <th>target</th>\n",
       "      <th>image_ID</th>\n",
       "      <th>raw_image_path</th>\n",
       "      <th>raw_image_md5</th>\n",
       "      <th>age</th>\n",
       "      <th>sex</th>\n",
       "      <th>comment</th>\n",
       "    </tr>\n",
       "  </thead>\n",
       "  <tbody>\n",
       "    <tr>\n",
       "      <th>0</th>\n",
       "      <td>False</td>\n",
       "      <td>0</td>\n",
       "      <td>../data/Shenzhen/raw/images/CHNCXR_0099_0.png</td>\n",
       "      <td>14a18d4fc7465b66186efb5c9d0d9bea</td>\n",
       "      <td>26</td>\n",
       "      <td>True</td>\n",
       "      <td>normal</td>\n",
       "    </tr>\n",
       "    <tr>\n",
       "      <th>1</th>\n",
       "      <td>True</td>\n",
       "      <td>1</td>\n",
       "      <td>../data/Shenzhen/raw/images/CHNCXR_0635_1.png</td>\n",
       "      <td>3ba59bfea5469d26e9409d831bc52ab6</td>\n",
       "      <td>65</td>\n",
       "      <td>True</td>\n",
       "      <td>bilateral PTB</td>\n",
       "    </tr>\n",
       "    <tr>\n",
       "      <th>2</th>\n",
       "      <td>False</td>\n",
       "      <td>2</td>\n",
       "      <td>../data/Shenzhen/raw/images/CHNCXR_0320_0.png</td>\n",
       "      <td>68ebd9afd4b7670e78afb5147115af1d</td>\n",
       "      <td>38</td>\n",
       "      <td>True</td>\n",
       "      <td>normal</td>\n",
       "    </tr>\n",
       "    <tr>\n",
       "      <th>3</th>\n",
       "      <td>True</td>\n",
       "      <td>3</td>\n",
       "      <td>../data/Shenzhen/raw/images/CHNCXR_0571_1.png</td>\n",
       "      <td>39746a5dc737f0bcbfb8b91b0ecdc54f</td>\n",
       "      <td>36</td>\n",
       "      <td>True</td>\n",
       "      <td>Right PTB</td>\n",
       "    </tr>\n",
       "    <tr>\n",
       "      <th>4</th>\n",
       "      <td>True</td>\n",
       "      <td>4</td>\n",
       "      <td>../data/Shenzhen/raw/images/CHNCXR_0534_1.png</td>\n",
       "      <td>53a87376a697ae0e9d39b34056fe9f54</td>\n",
       "      <td>21</td>\n",
       "      <td>True</td>\n",
       "      <td>Right PTB</td>\n",
       "    </tr>\n",
       "  </tbody>\n",
       "</table>\n",
       "</div>"
      ],
      "text/plain": [
       "   target  image_ID                                 raw_image_path  \\\n",
       "0   False         0  ../data/Shenzhen/raw/images/CHNCXR_0099_0.png   \n",
       "1    True         1  ../data/Shenzhen/raw/images/CHNCXR_0635_1.png   \n",
       "2   False         2  ../data/Shenzhen/raw/images/CHNCXR_0320_0.png   \n",
       "3    True         3  ../data/Shenzhen/raw/images/CHNCXR_0571_1.png   \n",
       "4    True         4  ../data/Shenzhen/raw/images/CHNCXR_0534_1.png   \n",
       "\n",
       "                      raw_image_md5  age   sex         comment  \n",
       "0  14a18d4fc7465b66186efb5c9d0d9bea   26  True          normal  \n",
       "1  3ba59bfea5469d26e9409d831bc52ab6   65  True  bilateral PTB   \n",
       "2  68ebd9afd4b7670e78afb5147115af1d   38  True          normal  \n",
       "3  39746a5dc737f0bcbfb8b91b0ecdc54f   36  True      Right PTB   \n",
       "4  53a87376a697ae0e9d39b34056fe9f54   21  True      Right PTB   "
      ]
     },
     "execution_count": 24,
     "metadata": {},
     "output_type": "execute_result"
    }
   ],
   "source": [
    "df = pd.read_excel(table_path,index_col=0)\n",
    "df.head()"
   ]
  },
  {
   "cell_type": "code",
   "execution_count": 17,
   "id": "c6aacf47-1ece-4447-ab12-453d6ac88e49",
   "metadata": {},
   "outputs": [],
   "source": [
    "def separate_and_resize( my_df , output_dir , resize=(255,255)):\n",
    "    \n",
    "    d = {\n",
    "      'target'   : [],\n",
    "      'image_path'  : [],\n",
    "      'image_md5'   : [],\n",
    "      'age'      : [],\n",
    "      'sex'      : [],\n",
    "      'comment'  : [],\n",
    "    }\n",
    "    \n",
    "    #os.system('mkdir %s'%output_dir)\n",
    "    for image_path in my_df.raw_image_path.values:\n",
    "        #img = Image.open(image_path).resize(resize)\n",
    "        filename = image_path.split('/')[-1]\n",
    "        output_filename = output_dir+'/'+filename\n",
    "        #img.save( output_filename, format=\"png\")\n",
    "        d['path'].append(output_filename)\n",
    "        d['md5'].append(get_md5(output_filename))\n",
    "    \n",
    "    new_df = pd.DataFrame(d)\n",
    "    print(new_df)\n",
    "    my_df.reset_index(drop=True)\n",
    "    my_df = pd.concat([my_df, new_df],axis=0)\n",
    "    return my_df"
   ]
  },
  {
   "cell_type": "code",
   "execution_count": 18,
   "id": "cc449b27-c74a-4f3b-a589-92097c36cf01",
   "metadata": {},
   "outputs": [
    {
     "name": "stdout",
     "output_type": "stream",
     "text": [
      "                      path                               md5\n",
      "0    PTB/CHNCXR_0635_1.png  bcb9e9594f26a6a79ab88a36122f57e7\n",
      "1    PTB/CHNCXR_0571_1.png  31a76ee53e4ac78ea969f4b938a13b05\n",
      "2    PTB/CHNCXR_0534_1.png  cbc8b9fb75ef92629a9b547774834aa9\n",
      "3    PTB/CHNCXR_0429_1.png  a6b587f61c7a2b9f195cd18daaed013e\n",
      "4    PTB/CHNCXR_0341_1.png  4a4f243d517c62f6254cb05fe36d223b\n",
      "..                     ...                               ...\n",
      "331  PTB/CHNCXR_0580_1.png  3d284714cb16a1cb705cffb394020140\n",
      "332  PTB/CHNCXR_0639_1.png  f4563e0c5826f789f6a6c8347ac289d4\n",
      "333  PTB/CHNCXR_0538_1.png  68852e357bfebd07fad9a4625b1ae794\n",
      "334  PTB/CHNCXR_0460_1.png  996e01e4b7b35ebe42d06a9962176b8d\n",
      "335  PTB/CHNCXR_0425_1.png  81966a8d98dd362344c48582af9eb4df\n",
      "\n",
      "[336 rows x 2 columns]\n"
     ]
    }
   ],
   "source": [
    "my_df_ptb = separate_and_resize( df.loc[df.target==1], 'PTB')"
   ]
  },
  {
   "cell_type": "code",
   "execution_count": 10,
   "id": "101fd369-59cd-43a9-8c11-fa1fee3926df",
   "metadata": {},
   "outputs": [],
   "source": [
    "my_df_ntb = separate_and_resize( df.loc[df.target==0], 'NTB')"
   ]
  },
  {
   "cell_type": "code",
   "execution_count": 19,
   "id": "b845814c-a071-4379-8de9-0934b37fc1ed",
   "metadata": {},
   "outputs": [
    {
     "data": {
      "text/html": [
       "<div>\n",
       "<style scoped>\n",
       "    .dataframe tbody tr th:only-of-type {\n",
       "        vertical-align: middle;\n",
       "    }\n",
       "\n",
       "    .dataframe tbody tr th {\n",
       "        vertical-align: top;\n",
       "    }\n",
       "\n",
       "    .dataframe thead th {\n",
       "        text-align: right;\n",
       "    }\n",
       "</style>\n",
       "<table border=\"1\" class=\"dataframe\">\n",
       "  <thead>\n",
       "    <tr style=\"text-align: right;\">\n",
       "      <th></th>\n",
       "      <th>target</th>\n",
       "      <th>raw_image_path</th>\n",
       "      <th>raw_image_md5</th>\n",
       "      <th>age</th>\n",
       "      <th>sex</th>\n",
       "      <th>comment</th>\n",
       "      <th>path</th>\n",
       "      <th>md5</th>\n",
       "    </tr>\n",
       "  </thead>\n",
       "  <tbody>\n",
       "    <tr>\n",
       "      <th>1</th>\n",
       "      <td>True</td>\n",
       "      <td>../data/raw/Shenzhen/images/CHNCXR_0635_1.png</td>\n",
       "      <td>3ba59bfea5469d26e9409d831bc52ab6</td>\n",
       "      <td>65.0</td>\n",
       "      <td>True</td>\n",
       "      <td>bilateral PTB</td>\n",
       "      <td>NaN</td>\n",
       "      <td>NaN</td>\n",
       "    </tr>\n",
       "    <tr>\n",
       "      <th>3</th>\n",
       "      <td>True</td>\n",
       "      <td>../data/raw/Shenzhen/images/CHNCXR_0571_1.png</td>\n",
       "      <td>39746a5dc737f0bcbfb8b91b0ecdc54f</td>\n",
       "      <td>36.0</td>\n",
       "      <td>True</td>\n",
       "      <td>Right PTB</td>\n",
       "      <td>NaN</td>\n",
       "      <td>NaN</td>\n",
       "    </tr>\n",
       "    <tr>\n",
       "      <th>4</th>\n",
       "      <td>True</td>\n",
       "      <td>../data/raw/Shenzhen/images/CHNCXR_0534_1.png</td>\n",
       "      <td>53a87376a697ae0e9d39b34056fe9f54</td>\n",
       "      <td>21.0</td>\n",
       "      <td>True</td>\n",
       "      <td>Right PTB</td>\n",
       "      <td>NaN</td>\n",
       "      <td>NaN</td>\n",
       "    </tr>\n",
       "    <tr>\n",
       "      <th>8</th>\n",
       "      <td>True</td>\n",
       "      <td>../data/raw/Shenzhen/images/CHNCXR_0429_1.png</td>\n",
       "      <td>884530121613ba9ab7c99115b4a9c5a4</td>\n",
       "      <td>27.0</td>\n",
       "      <td>True</td>\n",
       "      <td>secondary PTB in the bilateral upper field</td>\n",
       "      <td>NaN</td>\n",
       "      <td>NaN</td>\n",
       "    </tr>\n",
       "    <tr>\n",
       "      <th>10</th>\n",
       "      <td>True</td>\n",
       "      <td>../data/raw/Shenzhen/images/CHNCXR_0341_1.png</td>\n",
       "      <td>f01fe81442ad7fa04d29897fb999097b</td>\n",
       "      <td>43.0</td>\n",
       "      <td>True</td>\n",
       "      <td>STB</td>\n",
       "      <td>NaN</td>\n",
       "      <td>NaN</td>\n",
       "    </tr>\n",
       "  </tbody>\n",
       "</table>\n",
       "</div>"
      ],
      "text/plain": [
       "   target                                 raw_image_path  \\\n",
       "1    True  ../data/raw/Shenzhen/images/CHNCXR_0635_1.png   \n",
       "3    True  ../data/raw/Shenzhen/images/CHNCXR_0571_1.png   \n",
       "4    True  ../data/raw/Shenzhen/images/CHNCXR_0534_1.png   \n",
       "8    True  ../data/raw/Shenzhen/images/CHNCXR_0429_1.png   \n",
       "10   True  ../data/raw/Shenzhen/images/CHNCXR_0341_1.png   \n",
       "\n",
       "                       raw_image_md5   age   sex  \\\n",
       "1   3ba59bfea5469d26e9409d831bc52ab6  65.0  True   \n",
       "3   39746a5dc737f0bcbfb8b91b0ecdc54f  36.0  True   \n",
       "4   53a87376a697ae0e9d39b34056fe9f54  21.0  True   \n",
       "8   884530121613ba9ab7c99115b4a9c5a4  27.0  True   \n",
       "10  f01fe81442ad7fa04d29897fb999097b  43.0  True   \n",
       "\n",
       "                                        comment path  md5  \n",
       "1                                bilateral PTB   NaN  NaN  \n",
       "3                                    Right PTB   NaN  NaN  \n",
       "4                                    Right PTB   NaN  NaN  \n",
       "8   secondary PTB in the bilateral upper field   NaN  NaN  \n",
       "10                                          STB  NaN  NaN  "
      ]
     },
     "execution_count": 19,
     "metadata": {},
     "output_type": "execute_result"
    }
   ],
   "source": [
    "my_df_ptb.head()"
   ]
  },
  {
   "cell_type": "code",
   "execution_count": null,
   "id": "c5b8d5d1-1fa3-4891-9bd9-8b5a1a5e5658",
   "metadata": {},
   "outputs": [],
   "source": []
  },
  {
   "cell_type": "code",
   "execution_count": null,
   "id": "b9caa228-a951-4da5-aee9-5335b515a6f4",
   "metadata": {},
   "outputs": [],
   "source": []
  },
  {
   "cell_type": "code",
   "execution_count": 12,
   "id": "cb06ab2e-8b55-4185-8cb8-26f5e0125161",
   "metadata": {},
   "outputs": [
    {
     "ename": "InvalidIndexError",
     "evalue": "Reindexing only valid with uniquely valued Index objects",
     "output_type": "error",
     "traceback": [
      "\u001b[0;31m---------------------------------------------------------------------------\u001b[0m",
      "\u001b[0;31mInvalidIndexError\u001b[0m                         Traceback (most recent call last)",
      "\u001b[0;32m<ipython-input-12-66e860f06d4a>\u001b[0m in \u001b[0;36m<module>\u001b[0;34m\u001b[0m\n\u001b[0;32m----> 1\u001b[0;31m \u001b[0mdf\u001b[0m \u001b[0;34m=\u001b[0m \u001b[0mpd\u001b[0m\u001b[0;34m.\u001b[0m\u001b[0mconcat\u001b[0m\u001b[0;34m(\u001b[0m \u001b[0;34m[\u001b[0m\u001b[0mmy_df_ptb\u001b[0m\u001b[0;34m,\u001b[0m \u001b[0mmy_df_ntb\u001b[0m\u001b[0;34m]\u001b[0m\u001b[0;34m,\u001b[0m \u001b[0maxis\u001b[0m\u001b[0;34m=\u001b[0m\u001b[0;36m1\u001b[0m \u001b[0;34m)\u001b[0m\u001b[0;34m\u001b[0m\u001b[0;34m\u001b[0m\u001b[0m\n\u001b[0m",
      "\u001b[0;32m/usr/local/lib/python3.9/site-packages/pandas/core/reshape/concat.py\u001b[0m in \u001b[0;36mconcat\u001b[0;34m(objs, axis, join, ignore_index, keys, levels, names, verify_integrity, sort, copy)\u001b[0m\n\u001b[1;32m    296\u001b[0m     )\n\u001b[1;32m    297\u001b[0m \u001b[0;34m\u001b[0m\u001b[0m\n\u001b[0;32m--> 298\u001b[0;31m     \u001b[0;32mreturn\u001b[0m \u001b[0mop\u001b[0m\u001b[0;34m.\u001b[0m\u001b[0mget_result\u001b[0m\u001b[0;34m(\u001b[0m\u001b[0;34m)\u001b[0m\u001b[0;34m\u001b[0m\u001b[0;34m\u001b[0m\u001b[0m\n\u001b[0m\u001b[1;32m    299\u001b[0m \u001b[0;34m\u001b[0m\u001b[0m\n\u001b[1;32m    300\u001b[0m \u001b[0;34m\u001b[0m\u001b[0m\n",
      "\u001b[0;32m/usr/local/lib/python3.9/site-packages/pandas/core/reshape/concat.py\u001b[0m in \u001b[0;36mget_result\u001b[0;34m(self)\u001b[0m\n\u001b[1;32m    514\u001b[0m                     \u001b[0mobj_labels\u001b[0m \u001b[0;34m=\u001b[0m \u001b[0mobj\u001b[0m\u001b[0;34m.\u001b[0m\u001b[0maxes\u001b[0m\u001b[0;34m[\u001b[0m\u001b[0;36m1\u001b[0m \u001b[0;34m-\u001b[0m \u001b[0max\u001b[0m\u001b[0;34m]\u001b[0m\u001b[0;34m\u001b[0m\u001b[0;34m\u001b[0m\u001b[0m\n\u001b[1;32m    515\u001b[0m                     \u001b[0;32mif\u001b[0m \u001b[0;32mnot\u001b[0m \u001b[0mnew_labels\u001b[0m\u001b[0;34m.\u001b[0m\u001b[0mequals\u001b[0m\u001b[0;34m(\u001b[0m\u001b[0mobj_labels\u001b[0m\u001b[0;34m)\u001b[0m\u001b[0;34m:\u001b[0m\u001b[0;34m\u001b[0m\u001b[0;34m\u001b[0m\u001b[0m\n\u001b[0;32m--> 516\u001b[0;31m                         \u001b[0mindexers\u001b[0m\u001b[0;34m[\u001b[0m\u001b[0max\u001b[0m\u001b[0;34m]\u001b[0m \u001b[0;34m=\u001b[0m \u001b[0mobj_labels\u001b[0m\u001b[0;34m.\u001b[0m\u001b[0mget_indexer\u001b[0m\u001b[0;34m(\u001b[0m\u001b[0mnew_labels\u001b[0m\u001b[0;34m)\u001b[0m\u001b[0;34m\u001b[0m\u001b[0;34m\u001b[0m\u001b[0m\n\u001b[0m\u001b[1;32m    517\u001b[0m \u001b[0;34m\u001b[0m\u001b[0m\n\u001b[1;32m    518\u001b[0m                 \u001b[0mmgrs_indexers\u001b[0m\u001b[0;34m.\u001b[0m\u001b[0mappend\u001b[0m\u001b[0;34m(\u001b[0m\u001b[0;34m(\u001b[0m\u001b[0mobj\u001b[0m\u001b[0;34m.\u001b[0m\u001b[0m_mgr\u001b[0m\u001b[0;34m,\u001b[0m \u001b[0mindexers\u001b[0m\u001b[0;34m)\u001b[0m\u001b[0;34m)\u001b[0m\u001b[0;34m\u001b[0m\u001b[0;34m\u001b[0m\u001b[0m\n",
      "\u001b[0;32m/usr/local/lib/python3.9/site-packages/pandas/core/indexes/base.py\u001b[0m in \u001b[0;36mget_indexer\u001b[0;34m(self, target, method, limit, tolerance)\u001b[0m\n\u001b[1;32m   3169\u001b[0m \u001b[0;34m\u001b[0m\u001b[0m\n\u001b[1;32m   3170\u001b[0m         \u001b[0;32mif\u001b[0m \u001b[0;32mnot\u001b[0m \u001b[0mself\u001b[0m\u001b[0;34m.\u001b[0m\u001b[0mis_unique\u001b[0m\u001b[0;34m:\u001b[0m\u001b[0;34m\u001b[0m\u001b[0;34m\u001b[0m\u001b[0m\n\u001b[0;32m-> 3171\u001b[0;31m             raise InvalidIndexError(\n\u001b[0m\u001b[1;32m   3172\u001b[0m                 \u001b[0;34m\"Reindexing only valid with uniquely valued Index objects\"\u001b[0m\u001b[0;34m\u001b[0m\u001b[0;34m\u001b[0m\u001b[0m\n\u001b[1;32m   3173\u001b[0m             )\n",
      "\u001b[0;31mInvalidIndexError\u001b[0m: Reindexing only valid with uniquely valued Index objects"
     ]
    }
   ],
   "source": [
    "df = pd.concat( [my_df_ptb, my_df_ntb], axis=1 )"
   ]
  },
  {
   "cell_type": "code",
   "execution_count": null,
   "id": "b37e40e7-2124-46bf-841d-0b4b15488eb9",
   "metadata": {},
   "outputs": [],
   "source": []
  }
 ],
 "metadata": {
  "kernelspec": {
   "display_name": "Python 3",
   "language": "python",
   "name": "python3"
  },
  "language_info": {
   "codemirror_mode": {
    "name": "ipython",
    "version": 3
   },
   "file_extension": ".py",
   "mimetype": "text/x-python",
   "name": "python",
   "nbconvert_exporter": "python",
   "pygments_lexer": "ipython3",
   "version": "3.9.6"
  }
 },
 "nbformat": 4,
 "nbformat_minor": 5
}
