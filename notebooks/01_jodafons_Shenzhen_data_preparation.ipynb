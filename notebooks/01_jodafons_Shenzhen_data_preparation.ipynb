{
 "cells": [
  {
   "cell_type": "markdown",
   "id": "df1b6119-0538-48f4-8666-c2c530283000",
   "metadata": {},
   "source": [
    "# 01: Shenzhen Data Preparation\n",
    "\n",
    "From: jodafons \n",
    "\n",
    "This notebook will be responsible to create a final spreadsheet with all images paths, hashes and clinical readings."
   ]
  },
  {
   "cell_type": "code",
   "execution_count": 1,
   "id": "0c861eb4-ec87-48eb-b5c0-6c0b057b7d67",
   "metadata": {},
   "outputs": [],
   "source": [
    "import pandas as pd\n",
    "import numpy as np\n",
    "import os, sys\n",
    "import glob\n",
    "import re\n",
    "import hashlib\n",
    "import pathlib"
   ]
  },
  {
   "cell_type": "code",
   "execution_count": 2,
   "id": "66f0ca43-203f-417a-a80a-38edc3398d58",
   "metadata": {},
   "outputs": [],
   "source": [
    "def expand_folder( path , extension):\n",
    "    return glob.glob(path+'/*.'+extension)"
   ]
  },
  {
   "cell_type": "code",
   "execution_count": 3,
   "id": "4ea8eed9-eb3c-4eed-8e30-0db9447f84e2",
   "metadata": {},
   "outputs": [],
   "source": [
    "def get_md5(path):\n",
    "    return hashlib.md5(pathlib.Path(path).read_bytes()).hexdigest()"
   ]
  },
  {
   "cell_type": "markdown",
   "id": "91239508-b287-4654-b109-eb3f0e1cc373",
   "metadata": {},
   "source": [
    "## Create my v1 table"
   ]
  },
  {
   "cell_type": "code",
   "execution_count": 10,
   "id": "cc0336a1-621d-4a74-b10b-d999247ced57",
   "metadata": {},
   "outputs": [],
   "source": [
    "# this is the location of the raw chenzen data\n",
    "base_data_raw_path = '/home/jodafons/public/bric_tb_data/Shenzhen/raw'\n",
    "clinical_path = base_data_raw_path + '/clinical'\n",
    "images_path = base_data_raw_path\n"
   ]
  },
  {
   "cell_type": "code",
   "execution_count": 11,
   "id": "688085e4-4bf3-449a-842c-510f93ec333f",
   "metadata": {},
   "outputs": [],
   "source": [
    "def prepare_my_table( clinical_path , images_path ):\n",
    "    \n",
    "    d = {\n",
    "      'target'   : [],\n",
    "      'image_ID' : [],\n",
    "      'raw_image_path'     : [],\n",
    "      'raw_image_md5'      : [],\n",
    "      'age'      : [],\n",
    "      'sex'      : [],\n",
    "      'comment'  : [],\n",
    "    }\n",
    "\n",
    "    def treat_string( lines ):\n",
    "        string = ''\n",
    "        for s in lines:\n",
    "            string+=s.replace('\\n','').replace('\\t','')\n",
    "        return re.sub(' +', ' ', string)\n",
    "    \n",
    "    for idx, path in enumerate(expand_folder(clinical_path, 'txt')):\n",
    "    \n",
    "        with open(path,'r') as f:\n",
    "        \n",
    "            lines = f.readlines()\n",
    "            sex = True if 'male' in lines[0] else False # 1 for male and 0 for female\n",
    "            age = int(re.sub('\\D', '', lines[0]))\n",
    "            # get TB by file name (_1.txt is PTB or _0.txt is NTB)\n",
    "            target = True if '_1.txt' in path else False\n",
    "        \n",
    "            filename = path.split('/')[-1]\n",
    "            image_filename = filename.replace('txt','png')\n",
    "            image_path = images_path+('/tb/' if target else '/no_tb/')+image_filename\n",
    "            d['target'].append(target)\n",
    "            d['age'].append(age)\n",
    "            d['sex'].append(sex)\n",
    "            d['raw_image_path'].append(image_path)\n",
    "            d['raw_image_md5'].append(get_md5(image_path))\n",
    "            d['comment'].append(treat_string(lines[1::]))\n",
    "            d['image_ID'].append(idx)\n",
    "   \n",
    "            \n",
    "    return pd.DataFrame(d)\n",
    "\n",
    "\n",
    "df = prepare_my_table(clinical_path, images_path)\n",
    "    "
   ]
  },
  {
   "cell_type": "code",
   "execution_count": 12,
   "id": "bb99d69d-a914-4fac-87c3-af7f43089159",
   "metadata": {},
   "outputs": [
    {
     "data": {
      "text/html": [
       "<div>\n",
       "<style scoped>\n",
       "    .dataframe tbody tr th:only-of-type {\n",
       "        vertical-align: middle;\n",
       "    }\n",
       "\n",
       "    .dataframe tbody tr th {\n",
       "        vertical-align: top;\n",
       "    }\n",
       "\n",
       "    .dataframe thead th {\n",
       "        text-align: right;\n",
       "    }\n",
       "</style>\n",
       "<table border=\"1\" class=\"dataframe\">\n",
       "  <thead>\n",
       "    <tr style=\"text-align: right;\">\n",
       "      <th></th>\n",
       "      <th>target</th>\n",
       "      <th>image_ID</th>\n",
       "      <th>raw_image_path</th>\n",
       "      <th>raw_image_md5</th>\n",
       "      <th>age</th>\n",
       "      <th>sex</th>\n",
       "      <th>comment</th>\n",
       "    </tr>\n",
       "  </thead>\n",
       "  <tbody>\n",
       "    <tr>\n",
       "      <th>0</th>\n",
       "      <td>False</td>\n",
       "      <td>0</td>\n",
       "      <td>/home/jodafons/public/bric_tb_data/Shenzhen/ra...</td>\n",
       "      <td>14a18d4fc7465b66186efb5c9d0d9bea</td>\n",
       "      <td>26</td>\n",
       "      <td>True</td>\n",
       "      <td>normal</td>\n",
       "    </tr>\n",
       "    <tr>\n",
       "      <th>1</th>\n",
       "      <td>True</td>\n",
       "      <td>1</td>\n",
       "      <td>/home/jodafons/public/bric_tb_data/Shenzhen/ra...</td>\n",
       "      <td>3ba59bfea5469d26e9409d831bc52ab6</td>\n",
       "      <td>65</td>\n",
       "      <td>True</td>\n",
       "      <td>bilateral PTB</td>\n",
       "    </tr>\n",
       "    <tr>\n",
       "      <th>2</th>\n",
       "      <td>False</td>\n",
       "      <td>2</td>\n",
       "      <td>/home/jodafons/public/bric_tb_data/Shenzhen/ra...</td>\n",
       "      <td>68ebd9afd4b7670e78afb5147115af1d</td>\n",
       "      <td>38</td>\n",
       "      <td>True</td>\n",
       "      <td>normal</td>\n",
       "    </tr>\n",
       "    <tr>\n",
       "      <th>3</th>\n",
       "      <td>True</td>\n",
       "      <td>3</td>\n",
       "      <td>/home/jodafons/public/bric_tb_data/Shenzhen/ra...</td>\n",
       "      <td>39746a5dc737f0bcbfb8b91b0ecdc54f</td>\n",
       "      <td>36</td>\n",
       "      <td>True</td>\n",
       "      <td>Right PTB</td>\n",
       "    </tr>\n",
       "    <tr>\n",
       "      <th>4</th>\n",
       "      <td>True</td>\n",
       "      <td>4</td>\n",
       "      <td>/home/jodafons/public/bric_tb_data/Shenzhen/ra...</td>\n",
       "      <td>53a87376a697ae0e9d39b34056fe9f54</td>\n",
       "      <td>21</td>\n",
       "      <td>True</td>\n",
       "      <td>Right PTB</td>\n",
       "    </tr>\n",
       "  </tbody>\n",
       "</table>\n",
       "</div>"
      ],
      "text/plain": [
       "   target  image_ID                                     raw_image_path  \\\n",
       "0   False         0  /home/jodafons/public/bric_tb_data/Shenzhen/ra...   \n",
       "1    True         1  /home/jodafons/public/bric_tb_data/Shenzhen/ra...   \n",
       "2   False         2  /home/jodafons/public/bric_tb_data/Shenzhen/ra...   \n",
       "3    True         3  /home/jodafons/public/bric_tb_data/Shenzhen/ra...   \n",
       "4    True         4  /home/jodafons/public/bric_tb_data/Shenzhen/ra...   \n",
       "\n",
       "                      raw_image_md5  age   sex         comment  \n",
       "0  14a18d4fc7465b66186efb5c9d0d9bea   26  True          normal  \n",
       "1  3ba59bfea5469d26e9409d831bc52ab6   65  True  bilateral PTB   \n",
       "2  68ebd9afd4b7670e78afb5147115af1d   38  True          normal  \n",
       "3  39746a5dc737f0bcbfb8b91b0ecdc54f   36  True      Right PTB   \n",
       "4  53a87376a697ae0e9d39b34056fe9f54   21  True      Right PTB   "
      ]
     },
     "execution_count": 12,
     "metadata": {},
     "output_type": "execute_result"
    }
   ],
   "source": [
    "df.head()"
   ]
  },
  {
   "cell_type": "code",
   "execution_count": 17,
   "id": "80c6606e-d679-4cf3-bd47-4d4f36268329",
   "metadata": {},
   "outputs": [],
   "source": [
    "df.to_csv('/home/jodafons/public/bric_tb_data/Shenzhen/raw/Shenzhen_table_from_raw.csv')"
   ]
  },
  {
   "cell_type": "code",
   "execution_count": null,
   "id": "19ba856d-de99-44a2-b10e-9dd199bef6bf",
   "metadata": {},
   "outputs": [],
   "source": []
  }
 ],
 "metadata": {
  "kernelspec": {
   "display_name": "Python 3",
   "language": "python",
   "name": "python3"
  },
  "language_info": {
   "codemirror_mode": {
    "name": "ipython",
    "version": 3
   },
   "file_extension": ".py",
   "mimetype": "text/x-python",
   "name": "python",
   "nbconvert_exporter": "python",
   "pygments_lexer": "ipython3",
   "version": "3.6.9"
  }
 },
 "nbformat": 4,
 "nbformat_minor": 5
}
