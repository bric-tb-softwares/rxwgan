{
 "cells": [
  {
   "cell_type": "markdown",
   "id": "df1b6119-0538-48f4-8666-c2c530283000",
   "metadata": {},
   "source": [
    "# 01: Shenzhen Data Preparation\n",
    "\n",
    "From: jodafons \n",
    "\n",
    "This notebook will be responsible to create a final spreadsheet with all images paths, hashes and clinical readings."
   ]
  },
  {
   "cell_type": "code",
   "execution_count": 1,
   "id": "0c861eb4-ec87-48eb-b5c0-6c0b057b7d67",
   "metadata": {},
   "outputs": [],
   "source": [
    "import pandas as pd\n",
    "import numpy as np\n",
    "import os, sys\n",
    "import glob\n",
    "import re\n",
    "import hashlib\n",
    "import pathlib"
   ]
  },
  {
   "cell_type": "code",
   "execution_count": 2,
   "id": "66f0ca43-203f-417a-a80a-38edc3398d58",
   "metadata": {},
   "outputs": [],
   "source": [
    "def expand_folder( path , extension):\n",
    "    return glob.glob(path+'/*.'+extension)"
   ]
  },
  {
   "cell_type": "code",
   "execution_count": 3,
   "id": "4ea8eed9-eb3c-4eed-8e30-0db9447f84e2",
   "metadata": {},
   "outputs": [],
   "source": [
    "def get_md5(path):\n",
    "    return hashlib.md5(pathlib.Path(path).read_bytes()).hexdigest()"
   ]
  },
  {
   "cell_type": "markdown",
   "id": "91239508-b287-4654-b109-eb3f0e1cc373",
   "metadata": {},
   "source": [
    "## Create my v1 table"
   ]
  },
  {
   "cell_type": "code",
   "execution_count": 9,
   "id": "cc0336a1-621d-4a74-b10b-d999247ced57",
   "metadata": {},
   "outputs": [],
   "source": [
    "# this is the location of the raw chenzen data\n",
    "base_data_raw_path = '/home/jodafons/public/bric_data/Shenzhen/raw'\n",
    "clinical_path = base_data_raw_path + '/clinical'\n",
    "images_path = base_data_raw_path + '/images'\n"
   ]
  },
  {
   "cell_type": "code",
   "execution_count": null,
   "id": "d5572293-cedb-4de1-a20e-226aac5996b8",
   "metadata": {},
   "outputs": [],
   "source": [
    "base_data_raw_path = '/home/guilherme.dionisio/bric_data/Shenzhen/raw'\n",
    "clinical_path = base_data_raw_path + '/clinical'\n",
    "images_path = base_data_raw_path + '/images'"
   ]
  },
  {
   "cell_type": "code",
   "execution_count": 10,
   "id": "688085e4-4bf3-449a-842c-510f93ec333f",
   "metadata": {},
   "outputs": [],
   "source": [
    "def prepare_my_table( clinical_path , images_path ):\n",
    "    \n",
    "    d = {\n",
    "      'target'   : [],\n",
    "      'image_ID' : [],\n",
    "      'raw_image_path'     : [],\n",
    "      'raw_image_md5'      : [],\n",
    "      'age'      : [],\n",
    "      'sex'      : [],\n",
    "      'comment'  : [],\n",
    "    }\n",
    "\n",
    "    def treat_string( lines ):\n",
    "        string = ''\n",
    "        for s in lines:\n",
    "            string+=s.replace('\\n','').replace('\\t','')\n",
    "        return re.sub(' +', ' ', string)\n",
    "    \n",
    "    for idx, path in enumerate(expand_folder(clinical_path, 'txt')):\n",
    "    \n",
    "        with open(path,'r') as f:\n",
    "        \n",
    "            lines = f.readlines()\n",
    "            sex = True if 'male' in lines[0] else False # 1 for male and 0 for female\n",
    "            age = int(re.sub('\\D', '', lines[0]))\n",
    "            # get TB by file name (_1.txt is PTB or _0.txt is NTB)\n",
    "            target = 1 if '_1.txt' in path else 0\n",
    "        \n",
    "            filename = path.split('/')[-1]\n",
    "            image_filename = filename.replace('txt','png')\n",
    "            #image_path = images_path+('/tb/' if target else '/no_tb/')+image_filename\n",
    "            image_path = images_path+'/'+image_filename\n",
    "            d['target'].append(target)\n",
    "            d['age'].append(age)\n",
    "            d['sex'].append(sex)\n",
    "            d['raw_image_path'].append(image_path)\n",
    "            d['raw_image_md5'].append(get_md5(image_path))\n",
    "            d['comment'].append(treat_string(lines[1::]))\n",
    "            d['image_ID'].append(idx)\n",
    "   \n",
    "            \n",
    "    return pd.DataFrame(d)\n",
    "\n",
    "\n",
    "df = prepare_my_table(clinical_path, images_path)\n",
    "    "
   ]
  },
  {
   "cell_type": "code",
   "execution_count": 11,
   "id": "bb99d69d-a914-4fac-87c3-af7f43089159",
   "metadata": {},
   "outputs": [
    {
     "data": {
      "text/html": [
       "<div>\n",
       "<style scoped>\n",
       "    .dataframe tbody tr th:only-of-type {\n",
       "        vertical-align: middle;\n",
       "    }\n",
       "\n",
       "    .dataframe tbody tr th {\n",
       "        vertical-align: top;\n",
       "    }\n",
       "\n",
       "    .dataframe thead th {\n",
       "        text-align: right;\n",
       "    }\n",
       "</style>\n",
       "<table border=\"1\" class=\"dataframe\">\n",
       "  <thead>\n",
       "    <tr style=\"text-align: right;\">\n",
       "      <th></th>\n",
       "      <th>target</th>\n",
       "      <th>image_ID</th>\n",
       "      <th>raw_image_path</th>\n",
       "      <th>raw_image_md5</th>\n",
       "      <th>age</th>\n",
       "      <th>sex</th>\n",
       "      <th>comment</th>\n",
       "    </tr>\n",
       "  </thead>\n",
       "  <tbody>\n",
       "  </tbody>\n",
       "</table>\n",
       "</div>"
      ],
      "text/plain": [
       "Empty DataFrame\n",
       "Columns: [target, image_ID, raw_image_path, raw_image_md5, age, sex, comment]\n",
       "Index: []"
      ]
     },
     "execution_count": 11,
     "metadata": {},
     "output_type": "execute_result"
    }
   ],
   "source": [
    "df.head()"
   ]
  },
  {
   "cell_type": "code",
   "execution_count": 7,
   "id": "80c6606e-d679-4cf3-bd47-4d4f36268329",
   "metadata": {},
   "outputs": [],
   "source": [
    "df.to_csv('/home/jodafons/public/bric_data/Shenzhen/raw/Shenzhen_table_from_raw.csv')"
   ]
  },
  {
   "cell_type": "code",
   "execution_count": 8,
   "id": "19ba856d-de99-44a2-b10e-9dd199bef6bf",
   "metadata": {},
   "outputs": [],
   "source": [
    "df.loc[df.target==1].to_csv('/home/jodafons/public/bric_data/Shenzhen/raw/Shenzhen_table_from_raw_tb_only.csv')"
   ]
  },
  {
   "cell_type": "code",
   "execution_count": 9,
   "id": "3a230172-9cc5-4d95-ad7b-3072f0774cc3",
   "metadata": {},
   "outputs": [],
   "source": [
    "df.loc[df.target==0].to_csv('/home/jodafons/public/bric_data/Shenzhen/raw/Shenzhen_table_from_raw_notb_only.csv')"
   ]
  },
  {
   "cell_type": "code",
   "execution_count": null,
   "id": "2658dddc-720a-41b3-aec1-f21876d9ad13",
   "metadata": {},
   "outputs": [],
   "source": [
    "df.to_csv('/home/guilherme.dionisio/bric_data/Shenzhen/raw/Shenzhen_table_from_raw.csv')"
   ]
  },
  {
   "cell_type": "code",
   "execution_count": null,
   "id": "57743330-ff64-4ccc-a265-893025f934b8",
   "metadata": {},
   "outputs": [],
   "source": [
    "df.loc[df.target==1].to_csv('/home/guilherme.dionisio/bric_data/Shenzhen/raw/Shenzhen_table_from_raw_tb_only.csv')"
   ]
  },
  {
   "cell_type": "code",
   "execution_count": null,
   "id": "de87051b-2256-4c4a-8e53-bedf6281a338",
   "metadata": {},
   "outputs": [],
   "source": [
    "df.loc[df.target==0].to_csv('/home/guilherme.dionisio/bric_data/Shenzhen/raw/Shenzhen_table_from_raw_notb_only.csv')"
   ]
  }
 ],
 "metadata": {
  "kernelspec": {
   "display_name": "Python 3",
   "language": "python",
   "name": "python3"
  },
  "language_info": {
   "codemirror_mode": {
    "name": "ipython",
    "version": 3
   },
   "file_extension": ".py",
   "mimetype": "text/x-python",
   "name": "python",
   "nbconvert_exporter": "python",
   "pygments_lexer": "ipython3",
   "version": "3.6.9"
  }
 },
 "nbformat": 4,
 "nbformat_minor": 5
}
