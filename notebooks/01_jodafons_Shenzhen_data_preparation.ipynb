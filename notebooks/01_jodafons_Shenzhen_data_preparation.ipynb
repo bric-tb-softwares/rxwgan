{
 "cells": [
  {
   "cell_type": "markdown",
   "id": "df1b6119-0538-48f4-8666-c2c530283000",
   "metadata": {},
   "source": [
    "# 01: Shenzhen Data Preparation\n",
    "\n",
    "From: jodafons \n",
    "\n",
    "This notebook will be responsible to create a final spreadsheet with all images paths, hashes and clinical readings."
   ]
  },
  {
   "cell_type": "code",
   "execution_count": 1,
   "id": "0c861eb4-ec87-48eb-b5c0-6c0b057b7d67",
   "metadata": {},
   "outputs": [],
   "source": [
    "import pandas as pd\n",
    "import numpy as np\n",
    "import os, sys\n",
    "import glob\n",
    "import re\n",
    "import hashlib\n",
    "import pathlib\n",
    "from sklearn.model_selection import train_test_split"
   ]
  },
  {
   "cell_type": "code",
   "execution_count": 11,
   "id": "66f0ca43-203f-417a-a80a-38edc3398d58",
   "metadata": {},
   "outputs": [],
   "source": [
    "def expand_folder( path , extension):\n",
    "    l = glob.glob(path+'/*.'+extension)\n",
    "    l.sort()\n",
    "    return l"
   ]
  },
  {
   "cell_type": "code",
   "execution_count": 3,
   "id": "4ea8eed9-eb3c-4eed-8e30-0db9447f84e2",
   "metadata": {},
   "outputs": [],
   "source": [
    "def get_md5(path):\n",
    "    return hashlib.md5(pathlib.Path(path).read_bytes()).hexdigest()"
   ]
  },
  {
   "cell_type": "markdown",
   "id": "91239508-b287-4654-b109-eb3f0e1cc373",
   "metadata": {},
   "source": [
    "## Create my v1 table"
   ]
  },
  {
   "cell_type": "code",
   "execution_count": 4,
   "id": "cc0336a1-621d-4a74-b10b-d999247ced57",
   "metadata": {},
   "outputs": [],
   "source": [
    "# this is the location of the raw chenzen data\n",
    "base_data_raw_path = '/home/jodafons/public/brics_data/Shenzhen/raw'\n",
    "clinical_path = base_data_raw_path + '/clinical'\n",
    "images_path = base_data_raw_path + '/images'\n"
   ]
  },
  {
   "cell_type": "code",
   "execution_count": 13,
   "id": "688085e4-4bf3-449a-842c-510f93ec333f",
   "metadata": {},
   "outputs": [],
   "source": [
    "def prepare_my_table( clinical_path , images_path ):\n",
    "    \n",
    "    d = {\n",
    "      'target'   : [],\n",
    "      'image_ID' : [],\n",
    "      'raw_image_path'     : [],\n",
    "      'raw_image_md5'      : [],\n",
    "      'age'      : [],\n",
    "      'sex'      : [],\n",
    "      'comment'  : [],\n",
    "    }\n",
    "\n",
    "    def treat_string( lines ):\n",
    "        string = ''\n",
    "        for s in lines:\n",
    "            string+=s.replace('\\n','').replace('\\t','')\n",
    "        return re.sub(' +', ' ', string)\n",
    "    \n",
    "    for idx, path in enumerate(expand_folder(clinical_path, 'txt')):\n",
    "    \n",
    "        with open(path,'r') as f:\n",
    "        \n",
    "            lines = f.readlines()\n",
    "            sex = 'male' if 'male' in lines[0] else 'female' # 1 for male and 0 for female\n",
    "            age = int(re.sub('\\D', '', lines[0]))\n",
    "            # get TB by file name (_1.txt is PTB or _0.txt is NTB)\n",
    "            target = 1 if '_1.txt' in path else 0\n",
    "        \n",
    "            filename = path.split('/')[-1]\n",
    "            image_filename = filename.replace('txt','png')\n",
    "            #image_path = images_path+('/tb/' if target else '/no_tb/')+image_filename\n",
    "            image_path = images_path+'/'+image_filename\n",
    "            d['target'].append(target)\n",
    "            d['age'].append(age)\n",
    "            d['sex'].append(sex)\n",
    "            d['raw_image_path'].append(image_path)\n",
    "            d['raw_image_md5'].append(get_md5(image_path))\n",
    "            d['comment'].append(treat_string(lines[1::]))\n",
    "            d['image_ID'].append(filename.replace('.txt',''))\n",
    "   \n",
    "            \n",
    "    return pd.DataFrame(d)\n",
    "\n",
    "\n",
    "df = prepare_my_table(clinical_path, images_path)\n",
    "    "
   ]
  },
  {
   "cell_type": "code",
   "execution_count": null,
   "id": "06e3bcd0-f86d-49bc-b00e-7b0f2378f416",
   "metadata": {},
   "outputs": [],
   "source": []
  },
  {
   "cell_type": "code",
   "execution_count": 14,
   "id": "bb99d69d-a914-4fac-87c3-af7f43089159",
   "metadata": {},
   "outputs": [
    {
     "data": {
      "text/html": [
       "<div>\n",
       "<style scoped>\n",
       "    .dataframe tbody tr th:only-of-type {\n",
       "        vertical-align: middle;\n",
       "    }\n",
       "\n",
       "    .dataframe tbody tr th {\n",
       "        vertical-align: top;\n",
       "    }\n",
       "\n",
       "    .dataframe thead th {\n",
       "        text-align: right;\n",
       "    }\n",
       "</style>\n",
       "<table border=\"1\" class=\"dataframe\">\n",
       "  <thead>\n",
       "    <tr style=\"text-align: right;\">\n",
       "      <th></th>\n",
       "      <th>target</th>\n",
       "      <th>image_ID</th>\n",
       "      <th>raw_image_path</th>\n",
       "      <th>raw_image_md5</th>\n",
       "      <th>age</th>\n",
       "      <th>sex</th>\n",
       "      <th>comment</th>\n",
       "    </tr>\n",
       "  </thead>\n",
       "  <tbody>\n",
       "    <tr>\n",
       "      <th>0</th>\n",
       "      <td>0</td>\n",
       "      <td>CHNCXR_0001_0</td>\n",
       "      <td>/home/jodafons/public/brics_data/Shenzhen/raw/...</td>\n",
       "      <td>313e3db7e5f03c88d08a4485c364f370</td>\n",
       "      <td>45</td>\n",
       "      <td>male</td>\n",
       "      <td>normal</td>\n",
       "    </tr>\n",
       "    <tr>\n",
       "      <th>1</th>\n",
       "      <td>0</td>\n",
       "      <td>CHNCXR_0002_0</td>\n",
       "      <td>/home/jodafons/public/brics_data/Shenzhen/raw/...</td>\n",
       "      <td>3d5fcc07713143d414802fcc9cb86b2e</td>\n",
       "      <td>63</td>\n",
       "      <td>male</td>\n",
       "      <td>normal</td>\n",
       "    </tr>\n",
       "    <tr>\n",
       "      <th>2</th>\n",
       "      <td>0</td>\n",
       "      <td>CHNCXR_0003_0</td>\n",
       "      <td>/home/jodafons/public/brics_data/Shenzhen/raw/...</td>\n",
       "      <td>404cfbaf320875f617a810b7c075a813</td>\n",
       "      <td>48</td>\n",
       "      <td>male</td>\n",
       "      <td>normal</td>\n",
       "    </tr>\n",
       "    <tr>\n",
       "      <th>3</th>\n",
       "      <td>0</td>\n",
       "      <td>CHNCXR_0004_0</td>\n",
       "      <td>/home/jodafons/public/brics_data/Shenzhen/raw/...</td>\n",
       "      <td>0e7d2065cbbc08ca13fc2e8881e01096</td>\n",
       "      <td>58</td>\n",
       "      <td>male</td>\n",
       "      <td>normal</td>\n",
       "    </tr>\n",
       "    <tr>\n",
       "      <th>4</th>\n",
       "      <td>0</td>\n",
       "      <td>CHNCXR_0005_0</td>\n",
       "      <td>/home/jodafons/public/brics_data/Shenzhen/raw/...</td>\n",
       "      <td>d4acb116ed926f64a805447a65132e93</td>\n",
       "      <td>28</td>\n",
       "      <td>male</td>\n",
       "      <td>normal</td>\n",
       "    </tr>\n",
       "  </tbody>\n",
       "</table>\n",
       "</div>"
      ],
      "text/plain": [
       "   target       image_ID                                     raw_image_path  \\\n",
       "0       0  CHNCXR_0001_0  /home/jodafons/public/brics_data/Shenzhen/raw/...   \n",
       "1       0  CHNCXR_0002_0  /home/jodafons/public/brics_data/Shenzhen/raw/...   \n",
       "2       0  CHNCXR_0003_0  /home/jodafons/public/brics_data/Shenzhen/raw/...   \n",
       "3       0  CHNCXR_0004_0  /home/jodafons/public/brics_data/Shenzhen/raw/...   \n",
       "4       0  CHNCXR_0005_0  /home/jodafons/public/brics_data/Shenzhen/raw/...   \n",
       "\n",
       "                      raw_image_md5  age   sex  comment  \n",
       "0  313e3db7e5f03c88d08a4485c364f370   45  male   normal  \n",
       "1  3d5fcc07713143d414802fcc9cb86b2e   63  male   normal  \n",
       "2  404cfbaf320875f617a810b7c075a813   48  male  normal   \n",
       "3  0e7d2065cbbc08ca13fc2e8881e01096   58  male   normal  \n",
       "4  d4acb116ed926f64a805447a65132e93   28  male   normal  "
      ]
     },
     "execution_count": 14,
     "metadata": {},
     "output_type": "execute_result"
    }
   ],
   "source": [
    "df.head()"
   ]
  },
  {
   "cell_type": "code",
   "execution_count": 7,
   "id": "80c6606e-d679-4cf3-bd47-4d4f36268329",
   "metadata": {},
   "outputs": [],
   "source": [
    "df.to_csv('/home/jodafons/public/bric_data/Shenzhen/raw/Shenzhen_table_from_raw.csv')"
   ]
  },
  {
   "cell_type": "code",
   "execution_count": 8,
   "id": "fe329798-8c58-47f5-9af9-c1ddedfa2ca9",
   "metadata": {},
   "outputs": [],
   "source": [
    "df_tb = df.loc[df.target==1]\n",
    "df_notb = df.loc[df.target==0]"
   ]
  },
  {
   "cell_type": "code",
   "execution_count": 14,
   "id": "e447e094-ad49-4344-b4c9-d1ab73d866b1",
   "metadata": {},
   "outputs": [
    {
     "name": "stdout",
     "output_type": "stream",
     "text": [
      "(268, 7)\n",
      "(68, 7)\n"
     ]
    }
   ],
   "source": [
    "train_df, test_df = train_test_split(df_tb , test_size=0.2, random_state=512, shuffle=True)\n",
    "print(train_df.shape)\n",
    "print(test_df.shape)\n",
    "train_df.to_csv('/home/jodafons/public/bric_data/Shenzhen/raw/Shenzhen_table_from_raw_tb_only.csv')\n",
    "test_df.to_csv('/home/jodafons/public/bric_data/Shenzhen/raw/Shenzhen_test_table_from_raw_tb_only.csv')"
   ]
  },
  {
   "cell_type": "code",
   "execution_count": 15,
   "id": "425c5bad-432c-45b1-8d6d-14370b2a14d7",
   "metadata": {},
   "outputs": [
    {
     "name": "stdout",
     "output_type": "stream",
     "text": [
      "(260, 7)\n",
      "(66, 7)\n"
     ]
    }
   ],
   "source": [
    "train_df, test_df = train_test_split(df_notb , test_size=0.2, random_state=512, shuffle=True)\n",
    "print(train_df.shape)\n",
    "print(test_df.shape)\n",
    "train_df.to_csv('/home/jodafons/public/bric_data/Shenzhen/raw/Shenzhen_table_from_raw_notb_only.csv')\n",
    "test_df.to_csv('/home/jodafons/public/bric_data/Shenzhen/raw/Shenzhen_test_table_from_raw_notb_only.csv')"
   ]
  },
  {
   "cell_type": "code",
   "execution_count": null,
   "id": "0f497f2f-d419-49b7-8dab-47e3eed229d9",
   "metadata": {},
   "outputs": [],
   "source": []
  }
 ],
 "metadata": {
  "kernelspec": {
   "display_name": "Python 3",
   "language": "python",
   "name": "python3"
  },
  "language_info": {
   "codemirror_mode": {
    "name": "ipython",
    "version": 3
   },
   "file_extension": ".py",
   "mimetype": "text/x-python",
   "name": "python",
   "nbconvert_exporter": "python",
   "pygments_lexer": "ipython3",
   "version": "3.6.9"
  }
 },
 "nbformat": 4,
 "nbformat_minor": 5
}
